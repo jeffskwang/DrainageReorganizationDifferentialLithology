{
 "cells": [
  {
   "cell_type": "code",
   "execution_count": 1,
   "id": "e951c53f-5925-48f0-a0c5-057e0866e314",
   "metadata": {},
   "outputs": [
    {
     "name": "stdout",
     "output_type": "stream",
     "text": [
      "loading... C:\\Users\\jeffs\\Documents\\GitHub\\DrainageReorganizationDifferentialLithology\\input_topography\\ss_topo.txt\n",
      "0.0% 5.0% 10.0% 15.0% 20.0% 25.0% 30.0% 35.0% 40.0% 45.0% 50.0% 55.0% 60.0% 65.0% 70.0% 75.0% 80.0% 85.0% 90.0% 95.0% 100.0% done!\n"
     ]
    }
   ],
   "source": [
    "#Importing the usual suspects\n",
    "import numpy as np\n",
    "import sys\n",
    "import os\n",
    "import time\n",
    "start_time = time.time()\n",
    "np.set_printoptions(threshold=sys.maxsize)\n",
    "\n",
    "input_filename = 'ss_topo.txt'\n",
    "output_folder = 'test'\n",
    "\n",
    "parent = os.getcwd()\n",
    "input_folder = parent +'\\\\input_topography'\n",
    "output_main = os.path.dirname(parent) +'\\\\' + 'DRDL_output' \n",
    "if os.path.exists(output_main+'\\\\'+output_folder)==False:\n",
    "    os.makedirs(output_main+'\\\\'+output_folder)\n",
    "os.chdir(output_main+'\\\\'+output_folder)\n",
    "\n",
    "import warnings\n",
    "warnings.simplefilter(action='ignore') #stops annoying pandas warning\n",
    "from landlab import RasterModelGrid #sets up grid\n",
    "from landlab.components import FlowAccumulator #finds drainage area\n",
    "from landlab.components import FastscapeEroder #employs SPIM\n",
    "from landlab.components import Lithology\n",
    "from landlab.components import DepressionFinderAndRouter\n",
    "from landlab.components import ChiFinder\n",
    "from layer_functions import *\n",
    "\n",
    "np.random.seed(12345)\n",
    "multiplier = 0.2\n",
    "base_Ksp = 0.00001\n",
    "rows = 50\n",
    "columns = 100\n",
    "dx = 100. #meters\n",
    "dt = 100. #time step, yrs\n",
    "T = 5. * 10. ** 6. #simulation time, yrs\n",
    "uplift = 0.001 #uplift rate, m/yr\n",
    "\n",
    "mg = RasterModelGrid((rows,columns),dx) #The Grid\n",
    "eta = mg.add_zeros('topographic__elevation', at = 'node')\n",
    "mg.at_node['topographic__elevation'][mg.core_nodes] = np.random.rand(len(mg.core_nodes)) #resetting topography\n",
    "jeff_bc_open_or_closed(mg, False, False, True, False)\n",
    "\n",
    "#D8 is the method of finding flow direction\n",
    "flow = FlowAccumulator(mg, flow_director='D8')#,depression_finder=DepressionFinderAndRouter)\n",
    "#K_sp is K in the SPIM equation\n",
    "erode = FastscapeEroder(mg, K_sp=base_Ksp)\n",
    "cf = ChiFinder(mg,min_drainage_area=0.0,reference_concavity=.5,heterogenous=True,uplift=uplift)#,use_true_dx=True)\n",
    "\n",
    "run_steady_state(mg,flow,erode,uplift,dt,1E-5,input_folder+'\\\\'+input_filename)\n",
    "\n",
    "'''\n",
    "fault = mg.add_zeros('fault', at = 'node')\n",
    "add_fault_lines(mg,'fault',-2.,mg.dx * 25.,False,False,T/6.*uplift)\n",
    "add_fault_lines(mg,'fault',0.5,mg.dx * 25.,False,False,T/6.*uplift)\n",
    "#add_fault_lines(mg,'fault',0.0,mg.dx * 20.,True,False,T/6.*uplift)\n",
    "#add_fault_lines(mg,'fault',0.0,mg.dx * 20.,False,True,T/6.*uplift)\n",
    "jeff_plot(mg,'fault',False,'inferno','fault','Fault.png',0)  \n",
    "non_fault = np.zeros_like(fault)\n",
    "non_fault[fault==0.0] = 10000.\n",
    "thicknesses = [mg.at_node['topographic__elevation']+non_fault,fault,100000]\n",
    "'''                      \n",
    "fold = mg.add_zeros('fold', at = 'node')\n",
    "fold_thickness = T/10.*uplift\n",
    "#add_folds(mg,'fold',0.0,mg.extent[0]/3.,T/6.*uplift,True,False)\n",
    "#jeff_plot(mg,'fold',False,'inferno','fold','Fold_horiz.png',0)       \n",
    "add_folds(mg,'fold',0.0,mg.extent[1]/2.0,T/10.*uplift,False,True)\n",
    "jeff_plot(mg,'fold',False,'inferno','fold','Fold_vert.png',0)        \n",
    "#add_folds(mg,'fold',2.0,mg.extent[1]/5.0,T/2.*uplift,False,False)\n",
    "#jeff_plot(mg,'fold',False,'inferno','fold','Fold_sloped.png',0)     \n",
    "thicknesses = [mg.at_node['topographic__elevation']+fold,fold_thickness,100000]\n",
    "\n",
    "ids = [1, 2, 1]\n",
    "attrs = {'K_sp': {1: base_Ksp, 2: base_Ksp*multiplier}}\n",
    "\n",
    "save_lithology('test',ids,attrs,thicknesses)\n",
    "lith = Lithology(mg, thicknesses, ids, attrs, dz_advection = uplift * dt)\n",
    "\n",
    "lith_elevation = np.zeros_like(lith.dz)\n",
    "lith_rock_ksp = np.zeros(lith.dz.shape[0])\n",
    "lith_elevation[0,:] = mg.at_node['topographic__elevation'] - lith.dz[-1,:]\n",
    "for i in range(0,lith.dz.shape[0]):\n",
    "    lith_rock_ksp[i] = attrs['K_sp'][ids[i]]\n",
    "j = 1\n",
    "for i in range(lith.dz.shape[0]-2,-1,-1):\n",
    "    lith_elevation[j,:] = lith_elevation[j-1,:] - lith.dz[i,:]\n",
    "    j+=1\n",
    "lith.run_one_step()\n",
    "flow.run_one_step()\n",
    "\n",
    "t_set_initial_flow = 0\n",
    "check_difference = 0\n",
    "for t in range(0,int(T/dt)+1):   \n",
    "    if t == t_set_initial_flow:\n",
    "        check_difference=1\n",
    "        initial_flow_direction = mg.at_node['flow__receiver_node'].copy()\n",
    "    if t%(int(T/dt)/20) == 0: #progress bar\n",
    "    #if t >= T/dt/3 and  t <= T/dt/2 and t%100 == 0:\n",
    "        #multirock_plot(mg,attrs['K_sp'][1],t) \n",
    "        cf.calculate_chi()     \n",
    "        #multirock_profiler(mg,lith,uplift,t)\n",
    "        jeff_plot(mg,'channel__chi_index',False,'viridis',r'$\\chi$ [m]','Chi_'+ '%06d' % t + '.png',0)    \n",
    "        jeff_plot(mg,'topographic__elevation',False,'viridis',r'$\\eta$ [m]','Topography_'+ '%06d' % t + '.png',0)   \n",
    "        jeff_plot(mg,'drainage_area',True,'inferno',r'log(A) [log m$^2$]','Drainage_Area_'+ '%06d' % t + '.png',0)\n",
    "        jeff_plot(mg,'K_sp',False,'gray',r'K [$yr^{-1}$]','Erodibility_'+ '%06d' % t + '.png',1)\n",
    "        if check_difference == 1:\n",
    "            reorganization_map(mg,initial_flow_direction,'viridis','0 - same, 1 - reorganized','Flow_diff_'+ '%06d' % t + '.png')\n",
    "        multirock_profiler(mg,lith_elevation,lith_rock_ksp,0,t,uplift,dt)\n",
    "        #jeff_text(mg,lith,'_'+ '%06d' % t)\n",
    "        print (str(round(float(t)/float(T/dt)*100,1)) +'% ', end = '')\n",
    "    erode = FastscapeEroder(mg, K_sp = mg.at_node['K_sp'], m_sp = 0.5, n_sp = 1.0)\n",
    "    flow.run_one_step() #find drainage area\n",
    "    erode.run_one_step(dt=dt) #calculate erosion rate and subtract from the topography\n",
    "    mg.at_node['topographic__elevation'][mg.core_nodes] += uplift * dt #add uplift\n",
    "    lith.run_one_step()\n",
    "\n",
    "#jeff_plot(mg,'topographic__elevation',False,'viridis',r'$\\eta$ [m]','Topography_'+ str(multiplier) + '.png')   \n",
    "#jeff_plot(mg,'drainage_area',True,'inferno',r'log(A) [log m$^2$]','Drainage_Area_'+ str(multiplier) +'.png')\n",
    "print ('done!') \n",
    "print ((time.time()-start_time)/60.)\n"
   ]
  },
  {
   "cell_type": "code",
   "execution_count": 2,
   "id": "a0799a5a-678b-4d1f-b5ce-612e2a555fea",
   "metadata": {},
   "outputs": [
    {
     "data": {
      "text/plain": [
       "{1: 1e-05, 2: 2.0000000000000003e-06}"
      ]
     },
     "execution_count": 2,
     "metadata": {},
     "output_type": "execute_result"
    }
   ],
   "source": [
    "attrs['K_sp']"
   ]
  },
  {
   "cell_type": "code",
   "execution_count": 3,
   "id": "5637d9aa-ba46-4906-9356-8f742f670d8d",
   "metadata": {},
   "outputs": [
    {
     "name": "stdout",
     "output_type": "stream",
     "text": [
      "['water__unit_flux_in', 'drainage_area', 'flow__data_structure_delta', 'flow__upstream_node_order', 'surface_water__discharge', 'flow__sink_flag', 'flow__link_to_receiver_node', 'flow__receiver_node', 'topographic__steepest_slope', 'channel__chi_index', 'steady_state_topographic__elevation', 'topographic__elevation', 'fold', 'K_sp', 'rock_type__id']\n"
     ]
    }
   ],
   "source": [
    "print (mg.at_node.keys())"
   ]
  }
 ],
 "metadata": {
  "kernelspec": {
   "display_name": "Python 3 (ipykernel)",
   "language": "python",
   "name": "python3"
  },
  "language_info": {
   "codemirror_mode": {
    "name": "ipython",
    "version": 3
   },
   "file_extension": ".py",
   "mimetype": "text/x-python",
   "name": "python",
   "nbconvert_exporter": "python",
   "pygments_lexer": "ipython3",
   "version": "3.10.5"
  }
 },
 "nbformat": 4,
 "nbformat_minor": 5
}
