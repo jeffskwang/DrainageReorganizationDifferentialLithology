{
 "cells": [
  {
   "cell_type": "markdown",
   "id": "0e83aacb-92d9-4771-a2eb-1c458f813e04",
   "metadata": {
    "tags": []
   },
   "source": [
    "# **Layer Cake Model**\n",
    "This is a notebook the details the development of a landscape evolution model that simulates erosion into layers with different erodibilities. Unlike previous research on this topic, the layers will have complex geometries like buried drainage networks. The main equation of interest is the stream power incision model (SPIM).\n",
    "\n",
    "$E = K A^m S^n$\n",
    "\n",
    "where $E$ is erosion, $K$ is rock erodibility, $A$ is drainage area, $S$ is slope, and $m$ and $n$ are positive exponents. The first thing we will develop is a simple landscape evolution model using SPIM.\n",
    "\n",
    "The governing equation is\n",
    "$\\frac{\\partial \\eta}{\\partial t} = \\upsilon - K A^m S^n$\n",
    "where $\\eta$ is elevation, $t$ is time, and $\\upsilon$ is a rock uplift rate.\n",
    "\n",
    "## **Landlab**\n",
    "I will be using landlab to run this model. Let's start by important the libraries we need to run the model."
   ]
  },
  {
   "cell_type": "code",
   "execution_count": 1,
   "id": "44bb0026-9ccc-4f98-aa92-35e251adfcb7",
   "metadata": {},
   "outputs": [],
   "source": [
    "#Importing the usual suspects\n",
    "import matplotlib.pyplot as plt\n",
    "import numpy as np\n",
    "import sys\n",
    "np.set_printoptions(threshold=sys.maxsize)\n",
    "%matplotlib inline\n",
    "\n",
    "#Import landlab components\n",
    "import warnings\n",
    "warnings.simplefilter(action='ignore') #stops annoying pandas warning\n",
    "from landlab import RasterModelGrid #sets up grid\n",
    "from landlab.components import FlowAccumulator #finds drainage area\n",
    "from landlab.components import FastscapeEroder #employs SPIM"
   ]
  },
  {
   "cell_type": "markdown",
   "id": "f42e41b2-7aeb-4407-80ac-01716ec5e04d",
   "metadata": {},
   "source": [
    "### **The *Grid***\n",
    "Now that the libraries are imported we can make the grid. To make a grid, we need to specify how the number of nodes and the size of the nodes. A grid made of 25 rows and 50 columns with a grid size of 100 meters will be 2,500 m x 5,000 m. The grid is typically named $mg$."
   ]
  },
  {
   "cell_type": "code",
   "execution_count": 2,
   "id": "3bb9b5b7-f5f6-4f5a-b73c-968b252b0baf",
   "metadata": {},
   "outputs": [],
   "source": [
    "rows = 40\n",
    "columns = 80\n",
    "dx = 100. #meters\n",
    "\n",
    "mg = RasterModelGrid((rows,columns),dx) #The Grid"
   ]
  },
  {
   "cell_type": "markdown",
   "id": "494383fc-eb32-435c-83b9-02a99d26af80",
   "metadata": {},
   "source": [
    "### **Fields**\n",
    "Now that we have a grid, we can make a field that the grid holds. Since we are tracking landscape evolution, we will need a field that holds elevation values. We name the field 'topographic__elevation' because other built-in functions of landlab expect topography to be named this way. 'eta' holds the array information of 'topographic__elevation'. We can convert 'topographic__elevation' by altering 'eta' or vice versa."
   ]
  },
  {
   "cell_type": "code",
   "execution_count": 3,
   "id": "6257b7b2-34c1-4418-b8ea-b2cf46ba5bf5",
   "metadata": {},
   "outputs": [],
   "source": [
    "eta = mg.add_zeros('topographic__elevation', at = 'node')"
   ]
  },
  {
   "cell_type": "markdown",
   "id": "9af4c662-6c78-4f1f-81fd-0f6bbbb414c5",
   "metadata": {},
   "source": [
    "### **Initial Conditions**\n",
    "We initialize the topographic data with random noise. Let's plot it."
   ]
  },
  {
   "cell_type": "code",
   "execution_count": 4,
   "id": "c407e5b6-af08-4e28-8714-e2534792dc24",
   "metadata": {},
   "outputs": [],
   "source": [
    "#mg.at_node['topographic__elevation'][mg.core_nodes] = np.random.rand(len(mg.core_nodes)) #For randomized surface\n",
    "mg.at_node['topographic__elevation'][mg.core_nodes] = 0.0025 * mg.x_of_node[mg.core_nodes] + 0.005 * np.abs(mg.y_of_node[mg.core_nodes] - float(rows*dx)/2.0) + np.random.rand(len(mg.core_nodes)) # for v-shaped valley surface with randominess\n",
    "\n",
    "from layer_functions import *\n",
    "jeff_plot(mg,'topographic__elevation',False,'viridis',r'$\\eta$ [m]','Initial_Condition_0.png')"
   ]
  },
  {
   "cell_type": "markdown",
   "id": "84d015db-0449-43ee-b35d-b8aa3cfb244c",
   "metadata": {},
   "source": [
    "### **Boundary Conditions**\n",
    "We have initial conditions, now we need to set boundary conditions, i.e. rules for what happens at the boundaries. For this model, I want the rivers to only drain out the left boundary. I want the rest of the boundaries to act as walls. This is how we do this in landlab."
   ]
  },
  {
   "cell_type": "code",
   "execution_count": 5,
   "id": "2f2c8f50-eedb-433f-a356-733a2fba7ad6",
   "metadata": {},
   "outputs": [],
   "source": [
    "#True is closed, False is open\n",
    "#mg.set_closed_boundaries_at_grid_edges(True, True, False, True)#right, top, left, bottom\n",
    "jeff_bc_open_or_closed(mg, False, False, True, False)#right_boolean,top_boolean,left_boolean,bottom_boolean)"
   ]
  },
  {
   "cell_type": "markdown",
   "id": "e7fd05bc-cbd3-4725-b6b1-9445fb38cb4d",
   "metadata": {},
   "source": [
    "### **Landlab Functions**\n",
    "We need to set the landlab functions now. We're going to set up the flow accumulator (finds drainage area) and the fast scale eroder (determines fluvial erosion)."
   ]
  },
  {
   "cell_type": "code",
   "execution_count": 6,
   "id": "be44f335-fd6b-40d4-838d-5551a432ea9a",
   "metadata": {},
   "outputs": [
    {
     "name": "stdout",
     "output_type": "stream",
     "text": [
      "['topographic__elevation', 'water__unit_flux_in', 'drainage_area', 'flow__data_structure_delta', 'flow__upstream_node_order', 'surface_water__discharge', 'flow__sink_flag', 'flow__link_to_receiver_node', 'flow__receiver_node', 'topographic__steepest_slope']\n"
     ]
    }
   ],
   "source": [
    "#D8 is the method of finding flow direction\n",
    "flow = FlowAccumulator(mg, flow_director='D8')\n",
    "#K_sp is K in the SPIM equation\n",
    "erode = FastscapeEroder(mg, K_sp=0.00001)\n",
    "\n",
    "#print all the new fields that these functions generate\n",
    "print (mg.at_node.keys())"
   ]
  },
  {
   "cell_type": "markdown",
   "id": "02900c47-21fe-4f42-b68e-e564f95907ed",
   "metadata": {},
   "source": [
    "### **Time to Run the Model!**\n",
    "We've got everything we need. Let's run the model."
   ]
  },
  {
   "cell_type": "code",
   "execution_count": 7,
   "id": "e4141d46-f1dc-4a19-9c88-aabe4bba00f1",
   "metadata": {},
   "outputs": [
    {
     "name": "stdout",
     "output_type": "stream",
     "text": [
      "0.0% 10.0% 20.0% 30.0% 40.0% 50.0% 60.0% 70.0% 80.0% 90.0% done!\n"
     ]
    }
   ],
   "source": [
    "dt = 100. #time step, yrs\n",
    "T = 2. * 10. ** 6. #simulation time, yrs\n",
    "uplift = 0.001 #uplift rate, m/yr\n",
    "\n",
    "for t in range(0,int(T/dt)):    \n",
    "    flow.run_one_step() #find drainage area\n",
    "    erode.run_one_step(dt=dt) #calculate erosion rate and subtract from the topography\n",
    "    mg.at_node['topographic__elevation'][mg.core_nodes] += uplift * dt #add uplift\n",
    "    \n",
    "    if t%(int(T/dt)/10) == 0: #progress bar\n",
    "        print (str(round(float(t)/float(T/dt)*100,1)) +'% ', end = '')\n",
    "print ('done!')   \n",
    "jeff_plot(mg,'topographic__elevation',False,'viridis',r'$\\eta$ [m]','Bedrock_Topography.png')   \n",
    "jeff_plot(mg,'drainage_area',True,'inferno',r'log(A) [log m$^2$]','Bedrock_Drainage_Area.png')   "
   ]
  },
  {
   "cell_type": "markdown",
   "id": "ccbbdbba-7e1f-4cae-8fcc-d672a367841d",
   "metadata": {},
   "source": [
    "### **Burying the Landscape**\n",
    "To bury the landscape, we need to create two new fields. One field that signifies the elevation of the buried topography and one that signifies the erodibility of the surface layer. If the erodibilities of the buried material and the burial material are different, we need to tell the model which material it is eroding through by adjusting $K$. Let's assume that the topography is buried 1000 meters, burying even the highest relief in the landscape."
   ]
  },
  {
   "cell_type": "code",
   "execution_count": 8,
   "id": "d3eeff8f-f222-40cf-8017-72dbaabfd755",
   "metadata": {},
   "outputs": [],
   "source": [
    "buried_eta = mg.add_zeros('buried__topographic__elevation_1', at = 'node') #buried field\n",
    "mg.at_node['buried__topographic__elevation_1'][mg.core_nodes] = mg.at_node['topographic__elevation'][mg.core_nodes] - 1000."
   ]
  },
  {
   "cell_type": "markdown",
   "id": "9a071f9e-6f3e-411b-a43d-e0cc3a03d33c",
   "metadata": {},
   "source": [
    "### **Using the Lithology Library**\n",
    "Now, let's assume that the burial material is more erodible by a factor of 10. Next, we re-simulate landscape evolution by setting an initial surface topography again, but this time when the landscape erodes into the basement layer, K will decrease by a factor of 10, slowing down erosion. Let's also change the boundary conditions, so the landscape's outlet is on the right side of the domain."
   ]
  },
  {
   "cell_type": "code",
   "execution_count": 9,
   "id": "25be750f-ba0f-4d0b-8a8c-337c119c395f",
   "metadata": {},
   "outputs": [
    {
     "name": "stdout",
     "output_type": "stream",
     "text": [
      "0.0% 20.0% 40.0% 60.0% 80.0% 100.0% done!\n"
     ]
    }
   ],
   "source": [
    "from landlab.components import Lithology\n",
    "T = 1.5 * 10. ** 6. #simulation time, yrs\n",
    "\n",
    "#change boundary condition\n",
    "jeff_bc_open_or_closed(mg, True, False, False, False)\n",
    "\n",
    "#reset topography, buriying the landscape\n",
    "mg.at_node['topographic__elevation'][mg.core_nodes] = np.random.rand(len(mg.core_nodes)) #resetting topography\n",
    "\n",
    "thicknesses = [mg.at_node['topographic__elevation'] - mg.at_node['buried__topographic__elevation_1'],1000000.]\n",
    "ids = [1, 2]\n",
    "attrs = {'K_sp': {1: 0.0001, 2: 0.00001}}\n",
    "lith = Lithology(mg, thicknesses, ids, attrs, dz_advection = uplift * dt)\n",
    "lith.run_one_step()\n",
    "flow.run_one_step() #find drainage area\n",
    "for t in range(0,int(T/dt)+1):    \n",
    "    if t%(int(T/dt)/5) == 0: #progress bar\n",
    "        multirock_plot(mg,attrs['K_sp'][1],t)          \n",
    "        multirock_profiler(mg,lith,650,t)\n",
    "        jeff_plot(mg,'drainage_area',True,'inferno',r'log(A) [log m$^2$]','Drainage_Area_'+ '%06d' % t + '.png' )\n",
    "        print (str(round(float(t)/float(T/dt)*100,1)) +'% ', end = '')\n",
    "    erode = FastscapeEroder(mg, K_sp=mg.at_node['K_sp'])\n",
    "    flow.run_one_step() #find drainage area\n",
    "    erode.run_one_step(dt=dt) #calculate erosion rate and subtract from the topography\n",
    "    mg.at_node['topographic__elevation'][mg.core_nodes] += uplift * dt #add uplift\n",
    "    lith.run_one_step()\n",
    "\n",
    "print ('done!') "
   ]
  },
  {
   "cell_type": "markdown",
   "id": "efbc54c1-eb72-4a8d-9c3c-23082f95008b",
   "metadata": {},
   "source": [
    "To do:\n",
    "1. Find way to plot multi rocktype DONE\n",
    "2. Circular Basin\n",
    "3. Literature review. Why is this important? What's new since the nsf proposal.\n",
    "4. numerical methods, low diffusion, what happens at interface\n",
    "5. profile longest stream, or just horizontal?\n",
    "6. chi vector and rock map\n"
   ]
  },
  {
   "cell_type": "code",
   "execution_count": 1,
   "id": "99119e30-724c-4e67-8af9-53a777720e90",
   "metadata": {},
   "outputs": [
    {
     "ename": "SyntaxError",
     "evalue": "invalid syntax (3948878827.py, line 1)",
     "output_type": "error",
     "traceback": [
      "\u001b[1;36m  Input \u001b[1;32mIn [1]\u001b[1;36m\u001b[0m\n\u001b[1;33m    check chi, use multi rock\u001b[0m\n\u001b[1;37m          ^\u001b[0m\n\u001b[1;31mSyntaxError\u001b[0m\u001b[1;31m:\u001b[0m invalid syntax\n"
     ]
    }
   ],
   "source": [
    "check chi, use multi rock\n"
   ]
  },
  {
   "cell_type": "code",
   "execution_count": null,
   "id": "2c61c92e-69c6-40a5-8e97-4f6af691c219",
   "metadata": {},
   "outputs": [],
   "source": []
  }
 ],
 "metadata": {
  "kernelspec": {
   "display_name": "Python 3 (ipykernel)",
   "language": "python",
   "name": "python3"
  },
  "language_info": {
   "codemirror_mode": {
    "name": "ipython",
    "version": 3
   },
   "file_extension": ".py",
   "mimetype": "text/x-python",
   "name": "python",
   "nbconvert_exporter": "python",
   "pygments_lexer": "ipython3",
   "version": "3.10.4"
  }
 },
 "nbformat": 4,
 "nbformat_minor": 5
}
